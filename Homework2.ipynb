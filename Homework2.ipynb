{
 "cells": [
  {
   "cell_type": "markdown",
   "metadata": {},
   "source": [
    "# Домашня робота №2"
   ]
  },
  {
   "cell_type": "markdown",
   "metadata": {},
   "source": [
    "## 1 Пароль\n",
    "Напишіть програму (функцію) для генерування випадкового пароля з такими обмеженнями:\n",
    "- пароль складається з рівно $10$ символів\n",
    "- пароль містить хоча б одну маленьку латинську літеру [a-z]\n",
    "- пароль містить хоча б одну велику латинську літеру [A-Z]\n",
    "- пароль містить хоча б одну цифру [0-9]\n",
    "- пароль містить хоча б один спеціальний символ [~!@#$%^&*()-_+=\\/{}[].,?<>:;]"
   ]
  },
  {
   "cell_type": "code",
   "execution_count": 4,
   "metadata": {
    "scrolled": true
   },
   "outputs": [
    {
     "name": "stdout",
     "output_type": "stream",
     "text": [
      "password is:  80V~x0LZXd\n"
     ]
    }
   ],
   "source": [
    "import random\n",
    "import numpy as np\n",
    "passw = []\n",
    "pas = ''\n",
    "pas = random.choice(list('1234567890'))\n",
    "passw.append(pas)\n",
    "pas = random.choice(list('qwertyuiopasdfghjklzxcvbnm'))\n",
    "passw.append(pas)\n",
    "pas = random.choice(list('QWERTYUIOPASDFGHJKLZXCVBNM'))\n",
    "passw.append(pas)\n",
    "pas = random.choice(list('~!@#$%^&*()-_+=/{}[].,?<>:;'))\n",
    "passw.append(pas)\n",
    "for x in range(6): #Количество символов (16)\n",
    "    pas = random.choice(list('1234567890abcdefghigklmnopqrstuvyxwzABCDEFGHIGKLMNOPQRSTUVYXWZ~!@#$%^&*()-_+=/{}[].,?<>:;')) #Символы, из которых будет составлен пароль\n",
    "    passw.append(pas)\n",
    "np.random.shuffle(passw)\n",
    "passw = \"\".join(passw)\n",
    "print('password is: ', passw)\n"
   ]
  },
  {
   "cell_type": "markdown",
   "metadata": {},
   "source": [
    "## 2 Герби в ряд\n",
    "Реалізуйте функцію для обчислення емпіричної та теоретичної імовірностей випадіння $k$ гербів (HEADS) підряд у серії з $n$ підкидань чесної монетки. Підрахуйте відповідні ймовірності для таких параметрів:\n",
    "- $k = 2, n = 10, 50, 100, 500, 1000, 5000, 10000$\n",
    "- $k = 3, n = 10, 50, 100, 500, 1000, 5000, 10000$\n",
    "\n",
    "**Зауваження.** Нехай $k = 2, n = 10$ та маємо таку послідовність результатів підкидання монети: $\\{ H, T, H, H, H, H, T, T, H, T \\}$. Тоді матимемо $3$ випадки випадіння двох гербів підряд та емпіричну ймовірність такої події $1/3$."
   ]
  },
  {
   "cell_type": "code",
   "execution_count": 6,
   "metadata": {
    "scrolled": true
   },
   "outputs": [
    {
     "name": "stdout",
     "output_type": "stream",
     "text": [
      "for k = 2, n = 10 Gerb vypadae 2 raz pidryad, empir probability = 0.2 \n",
      "\n",
      "for k = 2, n = 50 Gerb vypadae 11 raz pidryad, empir probability = 0.22 \n",
      "\n",
      "for k = 2, n = 100 Gerb vypadae 40 raz pidryad, empir probability = 0.4 \n",
      "\n",
      "for k = 2, n = 500 Gerb vypadae 148 raz pidryad, empir probability = 0.296 \n",
      "\n",
      "for k = 2, n = 1000 Gerb vypadae 439 raz pidryad, empir probability = 0.439 \n",
      "\n",
      "for k = 2, n = 5000 Gerb vypadae 1710 raz pidryad, empir probability = 0.342 \n",
      "\n",
      "for k = 2, n = 10000 Gerb vypadae 4248 raz pidryad, empir probability = 0.4248 \n",
      "\n",
      "for k = 3, n = 10 Gerb vypadae 0 raz pidryad, empir probability = 0.0 \n",
      "\n",
      "for k = 3, n = 50 Gerb vypadae 8 raz pidryad, empir probability = 0.16 \n",
      "\n",
      "for k = 3, n = 100 Gerb vypadae 16 raz pidryad, empir probability = 0.16 \n",
      "\n",
      "for k = 3, n = 500 Gerb vypadae 80 raz pidryad, empir probability = 0.16 \n",
      "\n",
      "for k = 3, n = 1000 Gerb vypadae 174 raz pidryad, empir probability = 0.174 \n",
      "\n",
      "for k = 3, n = 5000 Gerb vypadae 774 raz pidryad, empir probability = 0.1548 \n",
      "\n",
      "for k = 3, n = 10000 Gerb vypadae 2053 raz pidryad, empir probability = 0.2053 \n",
      "\n"
     ]
    }
   ],
   "source": [
    "import numpy as np\n",
    "n = [10,50,100,500,1000,5000,10000]\n",
    "k = 0\n",
    "count = 0\n",
    "for i in range (len(n)):\n",
    "    tosses = np.random.choice ((\"H\",\"T\"),n[i])\n",
    "    for j in range(n[i]-1):\n",
    "        if (tosses[k] == tosses[ k + 1 ] == \"H\"):\n",
    "                count = count + 1\n",
    "        k = k + 1\n",
    "    k = 0    \n",
    "    print (\"for k =\"\" 2,\"\" n =\",n[i], \"Gerb vypadae\",count,\"raz pidryad, empir probability =\",count/n[i],\"\\n\")\n",
    "    \n",
    "\n",
    "count = 0   \n",
    "for i in range (len(n)):\n",
    "    tosses = np.random.choice ((\"H\",\"T\"),n[i])\n",
    "    for j in range(n[i]-2):\n",
    "        if (tosses[k] == tosses[ k + 1 ] == tosses[ k + 2 ] == \"H\"):\n",
    "                count = count + 1\n",
    "        k = k + 1\n",
    "    k = 0\n",
    "    print (\"for k =\"\" 3,\"\" n =\",n[i], \"Gerb vypadae\",count,\"raz pidryad, empir probability =\",count/n[i],\"\\n\")\n",
    "        "
   ]
  },
  {
   "cell_type": "markdown",
   "metadata": {},
   "source": [
    "## 3 Найбільше число\n",
    "Реалізуйте функцію підрахунку точної (теоретичної) імовірності того, що максимальне число після $n$ кидків звичайного грального кубика дорівнює $x\\_max$, для таких параметрів:\n",
    "- $n = 3, x\\_max = 6$\n",
    "- $n = 2, x\\_max = 3$\n",
    "- $n = 3, x\\_max = 5$\n",
    "\n",
    "Тобто, якщо $X_i, i = 1, \\ldots, n$, - число на $i$-му кидку кубика, а $X = \\max\\limits_{1 \\leq i \\leq n} X_i$, то потрібно знайти ймовірність $\\textbf{P} \\left( X = x\\_max \\right)$.\n",
    "\n",
    "Підрахуйте також емпіричні ймовірності відповідних подій у випадку $10000$ симуляцій.\n",
    "\n",
    "**Зауваження.** Якщо введені параметри не мають сенсу, то повертати $0$.\n",
    "Тобто, якщо вводиться $x\\_max < 1$ або $x\\_max > 6$."
   ]
  },
  {
   "cell_type": "code",
   "execution_count": 5,
   "metadata": {},
   "outputs": [
    {
     "name": "stdout",
     "output_type": "stream",
     "text": [
      "Teor_probability for n = 3 , x_max = 6: 0.375\n",
      "Empir_probability for n = 3: 0.4286\n",
      "Teor_probability for n = 2 , x_max = 3: 0.14285714285714285\n",
      "Empir_probability for n = 2: 0.1338\n",
      "Teor_probability for n = 3 , x_max = 5: 0.17857142857142858\n",
      "Empir_probability for n = 3: 0.1712\n"
     ]
    }
   ],
   "source": [
    "from itertools import combinations_with_replacement\n",
    "#import numpy as np\n",
    "\n",
    "n1 = 3\n",
    "tosses=[]\n",
    "x_max1 = 6; x_max2 = 3; x_max3 = 4\n",
    "x = 10000\n",
    "counter = 0\n",
    "counter1 = 0\n",
    "\n",
    "A = {1,2,3,4,5,6}\n",
    "s = list(combinations_with_replacement(A, 3))\n",
    "\n",
    "for i in s:    \n",
    "    if(max(i) == x_max1 ):\n",
    "        counter += 1\n",
    "print(\"Teor_probability for n = 3 , x_max = 6:\",counter/len(s))\n",
    "for i in range (x):\n",
    "    tosses = np.random.choice([1,2,3,4,5,6], size=3)\n",
    "    if(max(tosses) == x_max1 ):\n",
    "        counter1 += 1    \n",
    "print(\"Empir_probability for n = 3:\",counter1/x)\n",
    "\n",
    "counter = 0\n",
    "counter1 = 0\n",
    "s = list(combinations_with_replacement(A, 2))\n",
    "\n",
    "for i in s:    \n",
    "    if(max(i) == x_max2 ):\n",
    "        counter += 1\n",
    "print(\"Teor_probability for n = 2 , x_max = 3:\",counter/len(s))\n",
    "for i in range (x):\n",
    "    tosses = np.random.choice([1,2,3,4,5,6], size=2)\n",
    "    if(max(tosses) == x_max2 ):\n",
    "        counter1 += 1    \n",
    "print(\"Empir_probability for n = 2:\",counter1/x)\n",
    "\n",
    "counter = 0\n",
    "counter1 = 0\n",
    "s = list(combinations_with_replacement(A, 3))\n",
    "\n",
    "for i in s:    \n",
    "    if(max(i) == x_max3 ):\n",
    "        counter += 1\n",
    "print(\"Teor_probability for n = 3 , x_max = 5:\",counter/len(s))\n",
    "for i in range (x):\n",
    "    tosses = np.random.choice([1,2,3,4,5,6], size=3)\n",
    "    if(max(tosses) == x_max3 ):\n",
    "        counter1 += 1    \n",
    "print(\"Empir_probability for n = 3:\",counter1/x)"
   ]
  },
  {
   "cell_type": "code",
   "execution_count": null,
   "metadata": {},
   "outputs": [],
   "source": []
  },
  {
   "cell_type": "code",
   "execution_count": null,
   "metadata": {},
   "outputs": [],
   "source": []
  },
  {
   "cell_type": "code",
   "execution_count": null,
   "metadata": {},
   "outputs": [],
   "source": []
  },
  {
   "cell_type": "code",
   "execution_count": null,
   "metadata": {},
   "outputs": [],
   "source": []
  },
  {
   "cell_type": "markdown",
   "metadata": {},
   "source": [
    "## 4 Сума чисел\n",
    "Реалізуйте функцію підрахунку точної (теоретичної) імовірності того, що сума чисел після $n$ кидків звичайного грального кубика дорівнює $s$, для таких параметрів:\n",
    "- $n = 3, s = 13$\n",
    "- $n = 2, s = 5$\n",
    "- $n = 3, s = 7$\n",
    "\n",
    "Тобто, якщо $X_i, i = 1, \\ldots, n$, - число на $i$-му кидку кубика, а $X = \\sum\\limits_{i = 1}^{n} X_i$, то потрібно знайти ймовірність $\\textbf{P} \\left( X = s \\right)$.\n",
    "\n",
    "Підрахуйте також емпіричні ймовірності відповідних подій у випадку $10000$ симуляцій.\n",
    "\n",
    "**Зауваження.** Якщо введені параметри не мають сенсу, то повертати $0$.\n",
    "Наприклад, якщо при $n = 3$ вводиться $s < 3$ або $s > 18$."
   ]
  },
  {
   "cell_type": "code",
   "execution_count": 8,
   "metadata": {},
   "outputs": [
    {
     "name": "stdout",
     "output_type": "stream",
     "text": [
      "for n = 3, s = 13 , teor probability = 5 / 56 = 0.08928571428571429\n",
      "for n = 3, s = 13 , empir probability = 459 / 10000 = 0.0459\n",
      "for n = 2, s = 5 , teor probability = 2 / 21 = 0.09523809523809523\n",
      "for n = 2, s = 5 , empir probability = 1560 / 10000 = 0.156\n",
      "for n = 3, s = 7 , teor probability = 4 / 56 = 0.07142857142857142\n",
      "for n = 3, s = 7 , empir probability = 1205 / 10000 = 0.1205\n"
     ]
    }
   ],
   "source": [
    "import random\n",
    "from itertools import combinations_with_replacement\n",
    "import numpy as np\n",
    "low = 1\n",
    "high = 6\n",
    "count1 = 0\n",
    "count2 = 0\n",
    "count3 = 0 \n",
    "summ = 0\n",
    "count = 0\n",
    "n = 10000\n",
    "count = 0\n",
    "A = {1,2,3,4,5,6}\n",
    "n3 = 3\n",
    "n2 = 2\n",
    "s3 = list(combinations_with_replacement(A,n3))\n",
    "s2 = list(combinations_with_replacement(A,n2))\n",
    "kilkist_vsih_combinations_3 = len(s3)\n",
    "kilkist_vsih_combinations_2 = len(s2)\n",
    "for i in (s3):\n",
    "        if i[0]+i[1]+i[2] == 13:\n",
    "            count1 +=1\n",
    "teor1 = count1/kilkist_vsih_combinations_3 \n",
    "\n",
    "print (\"for n = 3, s = 13 , teor probability =\",count1,\"/\",kilkist_vsih_combinations_3,\"=\",teor1)            \n",
    "for i in range (n):\n",
    "    variants = np.random.randint(1,6,3)\n",
    "    summ = variants[0]+variants[1]+variants[2]\n",
    "    if (summ == 13):\n",
    "        count +=1\n",
    "\n",
    "        \n",
    "empir = count/n\n",
    "\n",
    "print (\"for n = 3, s = 13 , empir probability =\",count,\"/\",n,\"=\",empir)\n",
    "\n",
    "for i in (s2):\n",
    "        if i[0]+i[1] == 5:\n",
    "            count2 +=1\n",
    "teor2 = count2/kilkist_vsih_combinations_2 \n",
    "\n",
    "print (\"for n = 2, s = 5 , teor probability =\",count2,\"/\",kilkist_vsih_combinations_2,\"=\",teor2)   \n",
    "count = 0\n",
    "for i in range (n):\n",
    "    variants = np.random.randint(1,6,2)\n",
    "    summ = variants[0]+variants[1]\n",
    "    if (summ == 5):\n",
    "        count +=1\n",
    "        \n",
    "empir = count/n\n",
    "\n",
    "print (\"for n = 2, s = 5 , empir probability =\",count,\"/\",n,\"=\",empir)\n",
    "\n",
    "for i in (s3):\n",
    "        if i[0]+i[1]+i[2] == 7:\n",
    "            count3 +=1\n",
    "teor3 = count3/kilkist_vsih_combinations_3\n",
    "\n",
    "print (\"for n = 3, s = 7 , teor probability =\",count3,\"/\",kilkist_vsih_combinations_3,\"=\",teor3) \n",
    "count = 0\n",
    "for i in range (n):\n",
    "    variants = np.random.randint(1,6,3)\n",
    "    summ = variants[0]+variants[1]+variants[2]\n",
    "    if (summ == 7):\n",
    "        count +=1\n",
    "        \n",
    "empir = count/n\n",
    "\n",
    "print (\"for n = 3, s = 7 , empir probability =\",count,\"/\",n,\"=\",empir)\n",
    "\n"
   ]
  },
  {
   "cell_type": "code",
   "execution_count": null,
   "metadata": {},
   "outputs": [],
   "source": []
  }
 ],
 "metadata": {
  "kernelspec": {
   "display_name": "Python 3",
   "language": "python",
   "name": "python3"
  },
  "language_info": {
   "codemirror_mode": {
    "name": "ipython",
    "version": 3
   },
   "file_extension": ".py",
   "mimetype": "text/x-python",
   "name": "python",
   "nbconvert_exporter": "python",
   "pygments_lexer": "ipython3",
   "version": "3.7.0"
  }
 },
 "nbformat": 4,
 "nbformat_minor": 1
}
